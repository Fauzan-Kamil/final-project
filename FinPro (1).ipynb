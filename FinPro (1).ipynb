{
 "cells": [
  {
   "cell_type": "code",
   "execution_count": 1,
   "id": "37202fa1",
   "metadata": {},
   "outputs": [],
   "source": [
    "import pandas as pd\n",
    "import numpy as np\n",
    "import matplotlib.pyplot as plt\n",
    "import seaborn as sns\n",
    "import warnings\n",
    "warnings.filterwarnings('ignore')\n",
    "%matplotlib inline\n",
    "sns.set(style=\"darkgrid\")\n",
    "import pickle"
   ]
  },
  {
   "cell_type": "code",
   "execution_count": 2,
   "id": "f89f0dbf",
   "metadata": {},
   "outputs": [],
   "source": [
    "df_customer = pd.read_csv('customer.csv')\n",
    "df_click = pd.read_csv('click_stream.csv')\n",
    "df_product = pd.read_csv('product.csv', on_bad_lines='skip')\n",
    "df_trans = pd.read_csv('transactions.csv')"
   ]
  },
  {
   "cell_type": "markdown",
   "id": "0de207b0",
   "metadata": {},
   "source": [
    "# Cleaning Data"
   ]
  },
  {
   "cell_type": "markdown",
   "id": "9e992356",
   "metadata": {},
   "source": [
    "## Dataset Customer"
   ]
  },
  {
   "cell_type": "code",
   "execution_count": 3,
   "id": "89775761",
   "metadata": {},
   "outputs": [],
   "source": [
    "#mengubah tipe data yang tidak sesuai\n",
    "df_customer['birthdate'] = pd.to_datetime(df_customer['birthdate'])\n",
    "df_customer['first_join_date'] = pd.to_datetime(df_customer['first_join_date'])"
   ]
  },
  {
   "cell_type": "markdown",
   "id": "b286cd70",
   "metadata": {},
   "source": [
    "## Product Dataset"
   ]
  },
  {
   "cell_type": "code",
   "execution_count": 4,
   "id": "ea81ece1",
   "metadata": {},
   "outputs": [],
   "source": [
    "#mengubah nama kolom gender product, agar berbeda dengan gender customer\n",
    "df_product.gender = df_product.rename(columns = {'gender' : 'gender_product'}, inplace = True)\n",
    "\n",
    "#Mengubah tipe data kolom year\n",
    "df_product[\"year\"] = pd.to_numeric(df_product[\"year\"], errors='coerce')\n",
    "\n",
    "fixed_product = df_product.copy()\n",
    "\n",
    "# Mengubah null value dengan mode yang sesuai dengan articleType (Face Moisturisers)\n",
    "fixed_product.at[15526, \"baseColour\"] = \"White\"\n",
    "\n",
    "# Mengubah null value dengan mode yang sesuai dengan articleType (Jeans)\n",
    "fixed_product.at[6206, \"baseColour\"] = \"Blue\"\n",
    "fixed_product.at[9516, \"baseColour\"] = \"Blue\"\n",
    "fixed_product.at[12763, \"baseColour\"] = \"Blue\"\n",
    "fixed_product.at[15708, \"baseColour\"] = \"Blue\"\n",
    "fixed_product.at[20209, \"baseColour\"] = \"Blue\"\n",
    "fixed_product.at[34553, \"baseColour\"] = \"Blue\"\n",
    "\n",
    "# Mengubah null value dengan mode yang sesuai dengan articleType (Perfume and Body Mist)\n",
    "fixed_product.at[14291, \"baseColour\"] = \"Blue\"\n",
    "fixed_product.at[17268, \"baseColour\"] = \"Blue\"\n",
    "fixed_product.at[17639, \"baseColour\"] = \"Blue\"\n",
    "fixed_product.at[23484, \"baseColour\"] = \"Blue\"\n",
    "fixed_product.at[37531, \"baseColour\"] = \"Blue\"\n",
    "fixed_product.at[40675, \"baseColour\"] = \"Blue\"\n",
    "fixed_product.at[43260, \"baseColour\"] = \"Blue\"\n",
    "fixed_product.at[44224, \"baseColour\"] = \"Blue\"\n",
    "\n",
    "fixed_product['season'] = fixed_product['season'].fillna(fixed_product['season'].mode()[0])\n",
    "\n",
    "#Mengubah missing value pada kolom year dengan mode\n",
    "fixed_product['year'] = fixed_product['year'].fillna(fixed_product['year'].mode()[0])\n",
    "\n",
    "# Mengubah null value dengan mode yang sesuai dengan articleType (Perfume and Body Mist) dan baseColour\n",
    "fixed_product.at[3677, \"productDisplayName\"] = \"Lino Perros Women Maroon Clutch\"\n",
    "fixed_product.at[22089, \"productDisplayName\"] = \"Rocia Women Brown Clutch\"\n",
    "\n",
    "#Mengubah missing value pada kolom productDisplayName dengan mode\n",
    "fixed_product['productDisplayName'] = fixed_product['productDisplayName'].fillna(fixed_product['productDisplayName'].mode()[0])\n",
    "\n",
    "#Mengubah missing value pada kolom usage dengan mode\n",
    "fixed_product['usage'] = fixed_product['usage'].fillna(fixed_product['usage'].mode()[0])"
   ]
  },
  {
   "cell_type": "markdown",
   "id": "3369bd55",
   "metadata": {},
   "source": [
    "## Transactions Dataset"
   ]
  },
  {
   "cell_type": "code",
   "execution_count": 5,
   "id": "dfe3fedf",
   "metadata": {},
   "outputs": [],
   "source": [
    "# Ubah Tipe Data shipment_date_limit\n",
    "df_trans['shipment_date_limit'] = pd.to_datetime(df_trans['shipment_date_limit'])\n",
    "#convert waktu UTC +0 menjadi waktu local\n",
    "df_trans['shipment_date_limit'] = df_trans['shipment_date_limit'].dt.tz_convert(\"Asia/Jakarta\")\n",
    "#extract waktu\n",
    "df_trans['shipment_date_limit'] = pd.to_datetime(df_trans['shipment_date_limit'], format='%d/%m/%y %H:%M:%S').dt.strftime('%Y-%m-%d %H:%M:%S')\n",
    "# Ubah Tipe Data shipment_date_limit\n",
    "df_trans['shipment_date_limit'] = pd.to_datetime(df_trans['shipment_date_limit'])\n",
    "\n",
    "# Ubah tipe data created_id\n",
    "df_trans['created_at'] = pd.to_datetime(df_trans['created_at'])\n",
    "#convert waktu UTC +0 menjadi waktu local\n",
    "df_trans['created_at'] = df_trans['created_at'].dt.tz_convert(\"Asia/Jakarta\")\n",
    "#extract waktu\n",
    "df_trans['created_at'] = pd.to_datetime(df_trans['created_at'], format='%d/%m/%y %H:%M:%S').dt.strftime('%Y-%m-%d %H:%M:%S')\n",
    "df_trans['created_at'] = pd.to_datetime(df_trans['created_at'])\n",
    "\n",
    "# Handling Missing Value\n",
    "df_trans['promo_code'].fillna('NOPROMO', inplace=True)\n",
    "\n",
    "# Hapus spesial character pada kolom produtc_metadata\n",
    "df_trans['product_metadata'].replace(\"[^\\w\\s]\", ' ', regex=True, inplace=True)\n",
    "\n",
    "# Membuat Kolom id dengan product_id isi dari kolom product metadata\n",
    "df_trans['id'] = df_trans.product_metadata.str[15:21]\n",
    "df_trans['id'] = pd.to_numeric(df_trans['id'], errors='coerce')\n",
    "\n",
    "# Membuat Kolom qty dengan quantity dari kolom product metadata\n",
    "df_trans['qty'] = df_trans.product_metadata.str[34:36]\n",
    "df_trans['qty'].replace(\"[^\\w\\s]\", ' ', regex=True, inplace=True)\n",
    "df_trans['qty'] = pd.to_numeric(df_trans['qty'], errors='coerce')\n",
    "\n",
    "# Membuat Kolom price dengan item_price dari kolom product metadata\n",
    "df_trans['price'] = df_trans.product_metadata.str[51:58]\n",
    "df_trans['qty'].replace(\"[^\\w\\s]\", ' ', regex=True, inplace=True)\n",
    "df_trans['price'] = pd.to_numeric(df_trans['price'], errors='coerce')"
   ]
  },
  {
   "cell_type": "markdown",
   "id": "1c897c78",
   "metadata": {},
   "source": [
    "## Click Stream Dataset"
   ]
  },
  {
   "cell_type": "code",
   "execution_count": 6,
   "id": "ece30926",
   "metadata": {},
   "outputs": [],
   "source": [
    "#mengubah tipe data yang tidak sesuai\n",
    "df_click['event_time'] = pd.to_datetime(df_click['event_time'])\n",
    "#convert waktu UTC +0 menjadi waktu local\n",
    "df_click['event_time'] = df_click['event_time'].dt.tz_convert(\"Asia/Jakarta\")\n",
    "#extract waktu\n",
    "df_click['event_time'] = pd.to_datetime(df_click['event_time'], format='%d/%m/%y %H:%M:%S').dt.strftime('%Y-%m-%d %H:%M:%S')\n",
    "df_click['event_time'] = pd.to_datetime(df_click['event_time'])"
   ]
  },
  {
   "cell_type": "markdown",
   "id": "fd7ec9d2",
   "metadata": {},
   "source": [
    "# Merging Dataset"
   ]
  },
  {
   "cell_type": "code",
   "execution_count": 7,
   "id": "7f47f087",
   "metadata": {},
   "outputs": [],
   "source": [
    "# Merge dataset\n",
    "df_1 = pd.merge(df_click,df_trans,on='session_id', how='left')\n",
    "df_1 = pd.merge(df_1, fixed_product,on='id', how='left' )\n",
    "df_1 = pd.merge(df_1, df_customer, on='customer_id', how='left')"
   ]
  },
  {
   "cell_type": "code",
   "execution_count": 8,
   "id": "ed6070a7",
   "metadata": {},
   "outputs": [],
   "source": [
    "# membuat features tahun dilakukannya pembelian\n",
    "df_1[\"purchase_year\"] = df_1.created_at.dt.year\n",
    "\n",
    "gender_codes = {'F': 0, 'M': 1}\n",
    "df_1['gender'] = df_1.gender.map(gender_codes)\n",
    "df_1.gender = df_1.gender.astype('category')\n",
    "\n",
    "df_1['device_type'].fillna('unknown', inplace=True)\n",
    "device_codes = {'Android': 0, 'iOS': 1, 'unknown': 2}\n",
    "df_1['device_type'] = df_1.device_type.map(device_codes)\n",
    "df_1.device_type = df_1.device_type.astype('float')\n",
    "\n",
    "# Ubah kolom traffic_source menjadi 0 untuk web dan 1 untuk mobile\n",
    "traf_cols = {'WEB': 0, 'MOBILE': 1}\n",
    "df_1['traffic_source'] = df_1['traffic_source'].map(traf_cols)\n",
    "df_1['traffic_source'] = pd.to_numeric(df_1['traffic_source'], errors='coerce')\n",
    "\n",
    "df_1['age'] =  df_1.created_at.dt.year.max() - df_1.birthdate.dt.year\n",
    "\n",
    "#membuat feature shipment fee customer\n",
    "ongkir = df_1.groupby(\"customer_id\")[[\"shipment_fee\"]].sum()\n",
    "ongkir = ongkir.reset_index()\n",
    "ongkir.columns = [\"customer_id\",\"ongkir\"]\n",
    "\n",
    "# membuat feature jumlah promo yang telah customer gunakan\n",
    "total_promo = df_1.groupby(\"customer_id\")[[\"promo_amount\"]].sum()\n",
    "total_promo = total_promo.reset_index()\n",
    "total_promo.columns = [\"customer_id\",\"total_promo\"]\n",
    "\n",
    "recency = df_1.groupby(['customer_id'])['created_at'].max()\n",
    "recency = pd.DataFrame(data = recency).reset_index()\n",
    "\n",
    "recency['recent_days'] = recency['created_at'].max() - recency['created_at']\n",
    "recency['recent_days'] = recency['recent_days'].dt.days\n",
    "\n",
    "frequency = pd.DataFrame(df_1.groupby('customer_id')['booking_id'].count())\n",
    "\n",
    "monetary = pd.DataFrame(df_1[['customer_id','total_amount']].groupby('customer_id')['total_amount'].sum())"
   ]
  },
  {
   "cell_type": "code",
   "execution_count": 9,
   "id": "e1e7dc1c",
   "metadata": {},
   "outputs": [],
   "source": [
    "df_rfm = pd.merge(recency, frequency, on='customer_id')\n",
    "df_rfm = pd.merge(df_rfm, monetary, on='customer_id')\n",
    "\n",
    "df_rfm = df_rfm.rename(columns = {'booking_id' : 'frequency'})\n",
    "df_rfm = df_rfm.rename(columns = {'total_amount' : 'monetary'})"
   ]
  },
  {
   "cell_type": "code",
   "execution_count": 10,
   "id": "053a8594",
   "metadata": {},
   "outputs": [],
   "source": [
    "df_rfm['R_rank'] = df_rfm['recent_days'].rank(ascending=False)\n",
    "df_rfm['F_rank'] = df_rfm['frequency'].rank(ascending=True)\n",
    "df_rfm['M_rank'] = df_rfm['monetary'].rank(ascending=True)\n",
    "\n",
    "# normalizing the rank of the customers\n",
    "df_rfm['R_rank_norm'] = (df_rfm['R_rank']/df_rfm['R_rank'].max())*100\n",
    "df_rfm['F_rank_norm'] = (df_rfm['F_rank']/df_rfm['F_rank'].max())*100\n",
    "df_rfm['M_rank_norm'] = (df_rfm['F_rank']/df_rfm['M_rank'].max())*100\n",
    "\n",
    "df_rfm.drop(columns=['R_rank', 'F_rank', 'M_rank'], inplace=True)\n",
    "\n",
    "# referensi: https://www.geeksforgeeks.org/rfm-analysis-analysis-using-python/\n",
    "df_rfm['RFM_Score'] = 0.15*df_rfm['R_rank_norm']+0.28 * df_rfm['F_rank_norm']+0.57*df_rfm['M_rank_norm']\n",
    "df_rfm['RFM_Score'] *= 0.05\n",
    "df_rfm = df_rfm.round(2)\n",
    "\n",
    "df_rfm[\"Customer_segment\"] = np.where(df_rfm['RFM_Score'] >\n",
    "                                    4.5, \"Top Customers\",\n",
    "                                    (np.where(df_rfm['RFM_Score'] > 4,\n",
    "                                        \"High value Customer\",\n",
    "                                        (np.where(df_rfm['RFM_Score'] > 3,\n",
    "                            \"Medium Value Customer\",\n",
    "                            np.where(df_rfm['RFM_Score'] > 1.6,\n",
    "                            'Low Value Customers', 'Lost Customers'))))))"
   ]
  },
  {
   "cell_type": "code",
   "execution_count": 11,
   "id": "578fce74",
   "metadata": {},
   "outputs": [],
   "source": [
    "table = df_1.pivot_table(\n",
    "    values=\"session_id\", \n",
    "    index='customer_id', \n",
    "    columns='event_name', \n",
    "    aggfunc='count')\n",
    "\n",
    "act_cust = table.reset_index()"
   ]
  },
  {
   "cell_type": "code",
   "execution_count": 12,
   "id": "8159dfa8",
   "metadata": {},
   "outputs": [],
   "source": [
    "pembelian_awal = df_1.groupby(['customer_id'])['created_at'].min()\n",
    "pembelian_awal = pd.DataFrame(data = pembelian_awal).reset_index()\n",
    "pembelian_awal = pembelian_awal.rename(columns = {'created_at' : 'initial_purchase_date'})\n",
    "pembelian_akhir = df_1.groupby(['customer_id'])['created_at'].max()\n",
    "pembelian_akhir = pd.DataFrame(data = pembelian_akhir).reset_index()\n",
    "pembelian_akhir = pembelian_akhir.rename(columns = {'created_at' : 'last_purchase_date'})"
   ]
  },
  {
   "cell_type": "code",
   "execution_count": 13,
   "id": "7cfb8d44",
   "metadata": {},
   "outputs": [],
   "source": [
    "new_df = pd.merge(pembelian_awal, pembelian_akhir, on='customer_id')\n",
    "df_rfm = pd.merge(new_df, df_rfm, on='customer_id')"
   ]
  },
  {
   "cell_type": "code",
   "execution_count": 14,
   "id": "ba042630",
   "metadata": {},
   "outputs": [],
   "source": [
    "df_rfm[\"tenure\"] = (df_rfm.last_purchase_date - df_rfm.initial_purchase_date).dt.days/30\n",
    "df_rfm[\"monthly_spend\"] = np.round(df_rfm.monetary / df_rfm.tenure, 2)\n",
    "df_rfm[\"monthly_spend\"].replace([np.inf, -np.inf], np.nan, inplace=True)\n",
    "df_rfm[\"monthly_spend\"].fillna(df_rfm.monetary, inplace=True)\n",
    "\n",
    "# membuat feature berapa lama antara pembelian pertama dan pembelian selanjutnya\n",
    "df_rfm[\"freq_diff\"] = df_rfm['recent_days'] / df_rfm['frequency']\n",
    "\n",
    "# Membuat data dari 3 bulan terakhir\n",
    "data_last_months = df_1[(df_1['created_at'] > '2022-01-01 00:00:00') & (df_1['created_at'] <= '2022-04-01 00:00:00')]\n",
    "s = pd.merge(df_rfm, data_last_months, left_on='customer_id',right_on='customer_id',how='left')\n",
    "df_rfm['purchased_3m'] = s.customer_id.notnull().astype(int)\n",
    "df_rfm.purchased_3m = df_rfm.purchased_3m.astype('category')\n",
    "\n",
    "# Jumlah order per customer\n",
    "order_count = df_1.groupby(['customer_id'])['qty'].count().sort_values(ascending = False).reset_index()\n",
    "order_count = order_count.rename(columns = {'qty' : 'order_count'})\n",
    "\n",
    "# Kategori order\n",
    "kategori_order = []\n",
    "for i in order_count['order_count']:\n",
    "    if i <= 5:\n",
    "        kategori_order.append('0') # Sedikit\n",
    "    else:\n",
    "        kategori_order.append('1') # Banyak\n",
    "kategori_order = pd.DataFrame({'kategori_order' : kategori_order})\n",
    "order_count = pd.concat([order_count, kategori_order], axis = 1)"
   ]
  },
  {
   "cell_type": "code",
   "execution_count": 15,
   "id": "447f9eb3",
   "metadata": {},
   "outputs": [],
   "source": [
    "# Merge order_count ke df_rfm\n",
    "df_rfm = pd.merge(df_rfm, order_count, on='customer_id')"
   ]
  },
  {
   "cell_type": "code",
   "execution_count": 16,
   "id": "233314b6",
   "metadata": {},
   "outputs": [],
   "source": [
    "# Selish Tanggal pembelian\n",
    "df_rfm['selisih_tanggal'] = (df_rfm.last_purchase_date - df_rfm.initial_purchase_date).dt.days\n",
    "# Rata-rata pembelian per customer 1x \n",
    "df_rfm['rata_rata_pembelian'] = df_rfm['selisih_tanggal'] / df_rfm['order_count']\n",
    "\n",
    "# Kategori rata-rata pembelian\n",
    "kategori_rata_rata_pembelian = []\n",
    "for i in df_rfm['rata_rata_pembelian']:\n",
    "    if (i <= 30) & (i >= 1):\n",
    "        kategori_rata_rata_pembelian.append('1') # Aktif \n",
    "    else:\n",
    "        kategori_rata_rata_pembelian.append('0') # Tidak Aktif\n",
    "kategori_rata_rata_pembelian = pd.DataFrame({'kategori_rata_rata_pembelian' : kategori_rata_rata_pembelian})\n",
    "df_rfm = pd.concat([df_rfm, kategori_rata_rata_pembelian], axis = 1)\n",
    "\n",
    "# Rename kolom kategori_rata_rata_pembelian\n",
    "df_rfm = df_rfm.rename(columns = {'kategori_rata_rata_pembelian' : 'churn'})"
   ]
  },
  {
   "cell_type": "code",
   "execution_count": 17,
   "id": "356a86a7",
   "metadata": {},
   "outputs": [],
   "source": [
    "fixed_df = df_1.drop_duplicates(subset=['customer_id'])\n",
    "df_rfm = pd.merge(df_rfm, ongkir, on='customer_id', how='left')\n",
    "df_rfm = pd.merge(df_rfm, total_promo, on='customer_id', how='left')\n",
    "\n",
    "df = pd.merge(fixed_df, df_rfm, on='customer_id', how='inner')\n",
    "df = pd.merge(df, act_cust, on='customer_id', how='inner')"
   ]
  },
  {
   "cell_type": "code",
   "execution_count": 18,
   "id": "7fcfab4c",
   "metadata": {},
   "outputs": [],
   "source": [
    "#mengubah nilai null pada aktivitas customer dengan 0\n",
    "df = df.replace(np.nan, 0)"
   ]
  },
  {
   "cell_type": "markdown",
   "id": "6f5d1061",
   "metadata": {},
   "source": [
    "## Outlier Detection"
   ]
  },
  {
   "cell_type": "code",
   "execution_count": 19,
   "id": "d94454c3",
   "metadata": {},
   "outputs": [
    {
     "name": "stdout",
     "output_type": "stream",
     "text": [
      "Outlier ( purchase_year ) :  2  outlier (2013.5, 2025.5)\n",
      "Outlier ( ongkir ) :  2  outlier (-2977500.0, 5402500.0)\n",
      "Outlier ( total_promo ) :  2  outlier (-758722.875, 1320854.125)\n",
      "Outlier ( recent_days ) :  2  outlier (-441.0, 839.0)\n",
      "Outlier ( frequency ) :  2  outlier (-316.5, 583.5)\n",
      "Outlier ( monetary ) :  2  outlier (-206697464.5, 366524419.5)\n",
      "Outlier ( RFM_Score ) :  2  outlier (-2.380000000000001, 7.380000000000001)\n",
      "Outlier ( tenure ) :  2  outlier (-48.21666666666666, 89.25)\n",
      "Outlier ( monthly_spend ) :  2  outlier (-10478224.811250001, 20558036.578750003)\n",
      "Outlier ( freq_diff ) :  2  outlier (-23.22815092383107, 39.111008201357464)\n",
      "Outlier ( ADD_PROMO ) :  2  outlier (-6.5, 13.5)\n",
      "Outlier ( ADD_TO_CART ) :  2  outlier (-52.0, 100.0)\n"
     ]
    }
   ],
   "source": [
    "cols = ['purchase_year', 'ongkir','total_promo', 'recent_days', 'frequency', 'monetary', 'RFM_Score', 'tenure', 'monthly_spend', 'freq_diff', 'ADD_PROMO', 'ADD_TO_CART']\n",
    "\n",
    "# Cek Outlier dengan IQR\n",
    "def outlier_iqr(data):\n",
    "    outliers = []\n",
    "    q1 = data.quantile(0.25)\n",
    "    q3 = data.quantile(0.75)\n",
    "    iqr = q3 - q1\n",
    "    batas_bawah = q1 - 1.5 * iqr\n",
    "    batas_atas = q3 + 1.5 * iqr\n",
    "    return batas_bawah, batas_atas\n",
    "    for i in data:\n",
    "        if i < batas_bawah or i > batas_atas:\n",
    "            outliers.append(i)\n",
    "    return outliers\n",
    "data_outlier = {}\n",
    "for col in cols:\n",
    "    data_outlier[col] = outlier_iqr(df[col])\n",
    "    print('Outlier (',col,') : ',len(data_outlier[col]),' outlier',data_outlier[col])"
   ]
  },
  {
   "cell_type": "code",
   "execution_count": 20,
   "id": "3309d676",
   "metadata": {},
   "outputs": [
    {
     "name": "stdout",
     "output_type": "stream",
     "text": [
      "batas_bawah :  -206697464.5\n",
      "batas_atas :  366524419.5\n"
     ]
    }
   ],
   "source": [
    "# Handling (Monetary)\n",
    "q1 = df['monetary'].quantile(0.25)\n",
    "q3 = df['monetary'].quantile(0.75)\n",
    "iqr = q3 - q1\n",
    "batas_bawah = q1 - 1.5 * iqr\n",
    "batas_atas = q3 + 1.5 * iqr\n",
    "print('batas_bawah : ',batas_bawah)\n",
    "print('batas_atas : ',batas_atas)\n",
    "df['monetary'] = np.where(df['monetary'] > batas_atas, batas_atas, df['monetary'])\n",
    "df['monetary'] = np.where(df['monetary'] < batas_bawah, batas_bawah, df['monetary'])"
   ]
  },
  {
   "cell_type": "code",
   "execution_count": 21,
   "id": "4f41431e",
   "metadata": {},
   "outputs": [
    {
     "name": "stdout",
     "output_type": "stream",
     "text": [
      "batas_bawah :  -10478224.811250001\n",
      "batas_atas :  20558036.578750003\n"
     ]
    }
   ],
   "source": [
    "# Handling (Monthly Spend)\n",
    "q1 = df['monthly_spend'].quantile(0.25)\n",
    "q3 = df['monthly_spend'].quantile(0.75)\n",
    "iqr = q3 - q1\n",
    "batas_bawah = q1 - 1.5 * iqr\n",
    "batas_atas = q3 + 1.5 * iqr\n",
    "print('batas_bawah : ',batas_bawah)\n",
    "print('batas_atas : ',batas_atas)\n",
    "df['monthly_spend'] = np.where(df['monthly_spend'] > batas_atas, batas_atas, df['monthly_spend'])\n",
    "df['monthly_spend'] = np.where(df['monthly_spend'] < batas_bawah, batas_bawah, df['monthly_spend'])"
   ]
  },
  {
   "cell_type": "code",
   "execution_count": 22,
   "id": "5e39a3c2",
   "metadata": {},
   "outputs": [
    {
     "name": "stdout",
     "output_type": "stream",
     "text": [
      "batas_bawah :  -2977500.0\n",
      "batas_atas :  5402500.0\n"
     ]
    }
   ],
   "source": [
    "# Handling Ongkir\n",
    "q1 = df['ongkir'].quantile(0.25)\n",
    "q3 = df['ongkir'].quantile(0.75)\n",
    "iqr = q3 - q1\n",
    "batas_bawah = q1 - 1.5 * iqr\n",
    "batas_atas = q3 + 1.5 * iqr\n",
    "print('batas_bawah : ',batas_bawah)\n",
    "print('batas_atas : ',batas_atas)\n",
    "df['ongkir'] = np.where(df['ongkir'] > batas_atas, batas_atas, df['ongkir'])\n",
    "df['ongkir'] = np.where(df['ongkir'] < batas_bawah, batas_bawah, df['ongkir'])"
   ]
  },
  {
   "cell_type": "code",
   "execution_count": 23,
   "id": "4190e3ac",
   "metadata": {},
   "outputs": [
    {
     "name": "stdout",
     "output_type": "stream",
     "text": [
      "batas_bawah :  -758722.875\n",
      "batas_atas :  1320854.125\n"
     ]
    }
   ],
   "source": [
    "# Handling Total Promo\n",
    "q1 = df['total_promo'].quantile(0.25)\n",
    "q3 = df['total_promo'].quantile(0.75)\n",
    "iqr = q3 - q1\n",
    "batas_bawah = q1 - 1.5 * iqr\n",
    "batas_atas = q3 + 1.5 * iqr\n",
    "print('batas_bawah : ',batas_bawah)\n",
    "print('batas_atas : ',batas_atas)\n",
    "df['total_promo'] = np.where(df['total_promo'] > batas_atas, batas_atas, df['total_promo'])\n",
    "df['total_promo'] = np.where(df['total_promo'] < batas_bawah, batas_bawah, df['total_promo'])"
   ]
  },
  {
   "cell_type": "markdown",
   "id": "14287232",
   "metadata": {},
   "source": [
    "# Data Preprocessing"
   ]
  },
  {
   "cell_type": "markdown",
   "id": "942c9fc1",
   "metadata": {},
   "source": [
    "### Splitting Data"
   ]
  },
  {
   "cell_type": "code",
   "execution_count": 24,
   "id": "2439a833",
   "metadata": {},
   "outputs": [],
   "source": [
    "df['churn'] = df['churn'].astype('int')\n",
    "df['purchased_3m'] = pd.to_numeric(df['purchased_3m'], errors='coerce')\n",
    "df['gender'] = pd.to_numeric(df['gender'], errors='coerce')\n",
    "df['device_type'] = pd.to_numeric(df['device_type'], errors='coerce')\n",
    "df['churn'] = df['churn'].astype('int')"
   ]
  },
  {
   "cell_type": "code",
   "execution_count": 25,
   "id": "dd109ce2",
   "metadata": {},
   "outputs": [],
   "source": [
    "X = (df[['selisih_tanggal','purchase_year','tenure','RFM_Score','total_promo','monetary','ongkir','monthly_spend','freq_diff','recent_days','promo_code','payment_method']])\n",
    "y = (df['churn'])"
   ]
  },
  {
   "cell_type": "code",
   "execution_count": 26,
   "id": "63883ff8",
   "metadata": {},
   "outputs": [],
   "source": [
    "# One Hot Encoding\n",
    "categorical_cols = X.select_dtypes('object').columns.tolist()\n",
    "from sklearn.preprocessing import OneHotEncoder\n",
    "encoder = OneHotEncoder(sparse=False, handle_unknown='ignore')\n",
    "encoder.fit(df[categorical_cols])\n",
    "encoded_cols = list(encoder.get_feature_names(categorical_cols))\n",
    "X[encoded_cols] = encoder.transform(X[categorical_cols])"
   ]
  },
  {
   "cell_type": "code",
   "execution_count": null,
   "id": "3724bb0d",
   "metadata": {},
   "outputs": [],
   "source": [
    "# Save Encoder for Deployment\n",
    "import pickle\n",
    "pickle.dump(encoder, open('encoder.pkl', 'wb'))\n"
   ]
  },
  {
   "cell_type": "code",
   "execution_count": 27,
   "id": "3f779f79",
   "metadata": {},
   "outputs": [],
   "source": [
    "X.drop(categorical_cols, axis=1, inplace=True)\n",
    "pd.set_option('display.max_columns', None)\n",
    "#from imblearn.over_sampling import SMOTE\n",
    "#from collections import Counter\n",
    "#X, y = SMOTE().fit_resample(X, y)"
   ]
  },
  {
   "cell_type": "code",
   "execution_count": 35,
   "id": "c237efcd",
   "metadata": {},
   "outputs": [],
   "source": [
    "# To Csv X dan y (X = Feature, y = Target)\n",
    "# y.to_csv('y.csv', index=False)\n",
    "# X.to_csv('Deploy.csv', index=False)"
   ]
  },
  {
   "cell_type": "markdown",
   "id": "197a54e0",
   "metadata": {},
   "source": [
    "## Load Saved Scaler"
   ]
  },
  {
   "cell_type": "code",
   "execution_count": 29,
   "id": "739cadc4",
   "metadata": {},
   "outputs": [],
   "source": [
    "# Load Saved Scaler\n",
    "scaler = pickle.load(open('irlandia-scaler.pkl', 'rb'))\n",
    "X = scaler.fit_transform(X)"
   ]
  },
  {
   "cell_type": "markdown",
   "id": "79a07d87",
   "metadata": {},
   "source": [
    "## Load Saved Model"
   ]
  },
  {
   "cell_type": "code",
   "execution_count": 37,
   "id": "82285bb2",
   "metadata": {},
   "outputs": [],
   "source": [
    "# Splitting the dataset into the Training set and Test set\n",
    "from sklearn.model_selection import train_test_split\n",
    "from sklearn.metrics import classification_report\n",
    "X_train, X_test, y_train, y_test = train_test_split(X, y, test_size = 0.2, random_state = 0)"
   ]
  },
  {
   "cell_type": "code",
   "execution_count": 31,
   "id": "b90cd472",
   "metadata": {},
   "outputs": [
    {
     "name": "stdout",
     "output_type": "stream",
     "text": [
      "Test score: 95.08 %\n",
      "Predicted values:\n",
      "[1 0 1 ... 1 1 1]\n"
     ]
    }
   ],
   "source": [
    "pkl_filename = \"irlandia_grid_Knn.pkl\"\n",
    "with open(pkl_filename, 'rb') as file:\n",
    "    pickle_model = pickle.load(file)\n",
    "\n",
    "# Predict data baru\n",
    "score = pickle_model.score(X_test, y_test)\n",
    "print(\"Test score: {0:.2f} %\".format(100 * score))\n",
    "y_predict = pickle_model.predict(X_test)\n",
    "print(\"Predicted values:\")\n",
    "print(y_predict)"
   ]
  },
  {
   "cell_type": "code",
   "execution_count": 32,
   "id": "fce95045",
   "metadata": {},
   "outputs": [
    {
     "name": "stdout",
     "output_type": "stream",
     "text": [
      "              precision    recall  f1-score   support\n",
      "\n",
      "           0       0.92      0.93      0.93      3865\n",
      "           1       0.96      0.95      0.95      6276\n",
      "\n",
      "    accuracy                           0.94     10141\n",
      "   macro avg       0.94      0.94      0.94     10141\n",
      "weighted avg       0.94      0.94      0.94     10141\n",
      "\n"
     ]
    }
   ],
   "source": [
    "print(classification_report(y_test, y_predict))"
   ]
  }
 ],
 "metadata": {
  "kernelspec": {
   "display_name": "Python 3",
   "language": "python",
   "name": "python3"
  },
  "language_info": {
   "codemirror_mode": {
    "name": "ipython",
    "version": 3
   },
   "file_extension": ".py",
   "mimetype": "text/x-python",
   "name": "python",
   "nbconvert_exporter": "python",
   "pygments_lexer": "ipython3",
   "version": "3.10.4"
  },
  "vscode": {
   "interpreter": {
    "hash": "0ea338d71ad573372209b6f653cfe18bd9dc1fa4fb754059b5f63677e20fb1a8"
   }
  }
 },
 "nbformat": 4,
 "nbformat_minor": 5
}
